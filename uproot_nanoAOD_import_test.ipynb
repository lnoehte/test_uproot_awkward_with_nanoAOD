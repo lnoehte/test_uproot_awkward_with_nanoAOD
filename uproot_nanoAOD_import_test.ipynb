{
 "cells": [
  {
   "cell_type": "markdown",
   "metadata": {},
   "source": [
    "# Choosing RecordArray structures suitable for nanoAOD data format and masking with the `ak.mask` method.\n",
    "According to A. Hollands in the discussion https://github.com/scikit-hep/awkward/discussions/1585 the type of awkward array matters when masking.\n",
    "A type like `3 * var * {\"Muon_pt\": float64, \"Muon_eta\": float64}` is prefered over `3 * {\"Muon_pt\": var * float64, \"Muon_eta\": var * float64}` for proper broadcasting.\n",
    "\n",
    "> [...] The main issue here is that your record structures are not deeply nested, i.e. your array has type\n",
    "> \n",
    "> 3 * {\"Muon_pt\": var * float64, \"Muon_eta\": var * float64}\n",
    "> \n",
    "> instead of\n",
    "> \n",
    "> 3 * var * {\"Muon_pt\": float64, \"Muon_eta\": float64}\n",
    "> \n",
    "> The form of your array is an important choice that should make it easy to work with your data in a natural way. In the case of records, that means choosing whether to have var * {'x': float6} or {'x': var * float64}. In this instance, it feels like you want the former, not the latter. Otherwise, you need to slice each field, [...]\n",
    "\n",
    "> Record of arrays:\n",
    "> \n",
    "> 3 * {\"Muon_pt\": var * float64, \"Muon_eta\": var * float64}\n",
    "> \n",
    "> Array of records:\n",
    "> \n",
    "> 3 * var * {\"Muon_pt\": float64, \"Muon_eta\": float64}\n",
    "> \n",
    "> Uproot returns the \"record of arrays\", as by default there is no information about whether the branches are compatible with one another.\n",
    "> \n",
    "> You can use pass how=\"zip\" into the arrays() method that uproot provides to instruct it to give you the branches as a zipped array. You might need to limit arrays() to only the branches that you want to zip together."
   ]
  },
  {
   "cell_type": "code",
   "execution_count": 1,
   "metadata": {},
   "outputs": [
    {
     "name": "stdout",
     "output_type": "stream",
     "text": [
      "awkward version: 1.8.0\n",
      "uproot version:  4.3.3\n",
      "numpy version:   1.23.1\n"
     ]
    }
   ],
   "source": [
    "import awkward as ak\n",
    "print(\"awkward version:\", ak.__version__)\n",
    "import uproot\n",
    "print(\"uproot version: \", uproot.__version__)\n",
    "# import numpy as np\n",
    "# print(\"numpy version:  \", np.__version__)"
   ]
  },
  {
   "cell_type": "markdown",
   "metadata": {},
   "source": [
    "## Preparation"
   ]
  },
  {
   "cell_type": "markdown",
   "metadata": {},
   "source": [
    "A function to print useful information about awkward arrays:"
   ]
  },
  {
   "cell_type": "code",
   "execution_count": 2,
   "metadata": {},
   "outputs": [],
   "source": [
    "def print_array_info(akarray, layout:bool =None):\n",
    "    if layout == None: layout = False\n",
    "    print(\"fields:\\n{} \\n\".format(akarray.fields))\n",
    "    print(\"type: \\n{} \\n\".format(akarray.type))\n",
    "    if layout == True:\n",
    "        print(\"layout: \\n{}\".format(akarray.layout))"
   ]
  },
  {
   "cell_type": "markdown",
   "metadata": {},
   "source": [
    "Import the `Events` tree from a nanoAOD file:"
   ]
  },
  {
   "cell_type": "code",
   "execution_count": 3,
   "metadata": {},
   "outputs": [],
   "source": [
    "events = uproot.open(\"./nanoAOD_MC_testfile.root:Events\")"
   ]
  },
  {
   "cell_type": "markdown",
   "metadata": {},
   "source": [
    "Chosing branch keys to extract from the `Events` tree:"
   ]
  },
  {
   "cell_type": "code",
   "execution_count": 4,
   "metadata": {},
   "outputs": [],
   "source": [
    "muon_branches = [\"Muon_pt\", \"Muon_eta\", \"Muon_phi\", \"Muon_tightId\", \"Muon_pfRelIso04_all\", \"Muon_charge\"]"
   ]
  },
  {
   "cell_type": "code",
   "execution_count": 5,
   "metadata": {},
   "outputs": [],
   "source": [
    "jet_branches = [\n",
    "    \"Jet_pt\",\n",
    "    \"Jet_eta\",\n",
    "    \"Jet_phi\",\n",
    "    \"Jet_btagDeepFlavB\",\n",
    "    \"Jet_btagDeepFlavCvB\",\n",
    "    \"Jet_btagDeepFlavCvL\",\n",
    "    \"Jet_jetId\",\n",
    "    \"Jet_puId\",\n",
    "    \"Jet_hadronFlavour\",\n",
    "]"
   ]
  },
  {
   "cell_type": "markdown",
   "metadata": {},
   "source": [
    "## load muon branches without zipping"
   ]
  },
  {
   "cell_type": "code",
   "execution_count": 6,
   "metadata": {},
   "outputs": [
    {
     "name": "stdout",
     "output_type": "stream",
     "text": [
      "fields:\n",
      "['Muon_pt', 'Muon_eta', 'Muon_phi', 'Muon_tightId', 'Muon_pfRelIso04_all', 'Muon_charge'] \n",
      "\n",
      "type: \n",
      "1089694 * {\"Muon_pt\": var * float32, \"Muon_eta\": var * float32, \"Muon_phi\": var * float32, \"Muon_tightId\": var * bool, \"Muon_pfRelIso04_all\": var * float32, \"Muon_charge\": var * int32} \n",
      "\n"
     ]
    }
   ],
   "source": [
    "muons_no_zip = events.arrays(muon_branches) #, entry_stop=10)\n",
    "print_array_info(muons_no_zip)"
   ]
  },
  {
   "cell_type": "markdown",
   "metadata": {},
   "source": [
    "## load muon branches with manual zipping using `ak.zip`"
   ]
  },
  {
   "cell_type": "code",
   "execution_count": 7,
   "metadata": {},
   "outputs": [
    {
     "name": "stdout",
     "output_type": "stream",
     "text": [
      "fields:\n",
      "['pt', 'eta', 'phi', 'tightId', 'pfRelIso04_all', 'charge'] \n",
      "\n",
      "type: \n",
      "1089694 * var * {\"pt\": float32, \"eta\": float32, \"phi\": float32, \"tightId\": bool, \"pfRelIso04_all\": float32, \"charge\": int32} \n",
      "\n"
     ]
    }
   ],
   "source": [
    "muons_manual_zip = ak.zip({muon_branches[i].split(\"_\", maxsplit=1)[1]: events[muon_branches[i]].array() for i in range(len(muon_branches))})\n",
    "print_array_info(muons_manual_zip)"
   ]
  },
  {
   "cell_type": "markdown",
   "metadata": {},
   "source": [
    "## load muon branches with manual zipping using uproots `how=\"zip\"`"
   ]
  },
  {
   "cell_type": "code",
   "execution_count": 8,
   "metadata": {},
   "outputs": [
    {
     "name": "stdout",
     "output_type": "stream",
     "text": [
      "fields:\n",
      "['Muon'] \n",
      "\n",
      "type: \n",
      "1089694 * {\"Muon\": var * {\"pt\": float32, \"eta\": float32, \"phi\": float32, \"tightId\": bool, \"pfRelIso04_all\": float32, \"charge\": int32}} \n",
      "\n",
      "fields:\n",
      "['pt', 'eta', 'phi', 'tightId', 'pfRelIso04_all', 'charge'] \n",
      "\n",
      "type: \n",
      "1089694 * var * {\"pt\": float32, \"eta\": float32, \"phi\": float32, \"tightId\": bool, \"pfRelIso04_all\": float32, \"charge\": int32} \n",
      "\n"
     ]
    }
   ],
   "source": [
    "muons_zip = events.arrays(muon_branches, how=\"zip\") #, entry_stop=10)\n",
    "print_array_info(muons_zip)\n",
    "print_array_info(muons_zip.Muon)"
   ]
  },
  {
   "cell_type": "markdown",
   "metadata": {},
   "source": [
    "## testing array structure with two different object types (Muon and Jet)"
   ]
  },
  {
   "cell_type": "code",
   "execution_count": 9,
   "metadata": {},
   "outputs": [
    {
     "name": "stdout",
     "output_type": "stream",
     "text": [
      "fields:\n",
      "['Muon_pt', 'Muon_eta', 'Muon_phi', 'Muon_tightId', 'Muon_pfRelIso04_all', 'Muon_charge', 'Jet_pt', 'Jet_eta', 'Jet_phi', 'Jet_btagDeepFlavB', 'Jet_btagDeepFlavCvB', 'Jet_btagDeepFlavCvL', 'Jet_jetId', 'Jet_puId', 'Jet_hadronFlavour'] \n",
      "\n",
      "type: \n",
      "1089694 * {\"Muon_pt\": var * float32, \"Muon_eta\": var * float32, \"Muon_phi\": var * float32, \"Muon_tightId\": var * bool, \"Muon_pfRelIso04_all\": var * float32, \"Muon_charge\": var * int32, \"Jet_pt\": var * float32, \"Jet_eta\": var * float32, \"Jet_phi\": var * float32, \"Jet_btagDeepFlavB\": var * float32, \"Jet_btagDeepFlavCvB\": var * float32, \"Jet_btagDeepFlavCvL\": var * float32, \"Jet_jetId\": var * int32, \"Jet_puId\": var * int32, \"Jet_hadronFlavour\": var * int32} \n",
      "\n"
     ]
    }
   ],
   "source": [
    "muons_with_jets_no_zip = events.arrays(muon_branches + jet_branches)\n",
    "print_array_info(muons_with_jets_no_zip) # , layout=True)"
   ]
  },
  {
   "cell_type": "code",
   "execution_count": 10,
   "metadata": {},
   "outputs": [
    {
     "name": "stdout",
     "output_type": "stream",
     "text": [
      "fields:\n",
      "['Muon', 'Jet'] \n",
      "\n",
      "type: \n",
      "1089694 * {\"Muon\": var * {\"pt\": float32, \"eta\": float32, \"phi\": float32, \"tightId\": bool, \"pfRelIso04_all\": float32, \"charge\": int32}, \"Jet\": var * {\"pt\": float32, \"eta\": float32, \"phi\": float32, \"btagDeepFlavB\": float32, \"btagDeepFlavCvB\": float32, \"btagDeepFlavCvL\": float32, \"jetId\": int32, \"puId\": int32, \"hadronFlavour\": int32}} \n",
      "\n"
     ]
    }
   ],
   "source": [
    "muons_with_jets_zip = events.arrays(muon_branches + jet_branches, how=\"zip\")\n",
    "print_array_info(muons_with_jets_zip) # , layout=True)"
   ]
  },
  {
   "cell_type": "code",
   "execution_count": 11,
   "metadata": {},
   "outputs": [
    {
     "name": "stdout",
     "output_type": "stream",
     "text": [
      "fields:\n",
      "['pt', 'eta', 'phi', 'tightId', 'pfRelIso04_all', 'charge'] \n",
      "\n",
      "type: \n",
      "1089694 * var * {\"pt\": float32, \"eta\": float32, \"phi\": float32, \"tightId\": bool, \"pfRelIso04_all\": float32, \"charge\": int32} \n",
      "\n"
     ]
    }
   ],
   "source": [
    "print_array_info(muons_with_jets_zip.Muon) # , layout=True)\n"
   ]
  },
  {
   "cell_type": "code",
   "execution_count": 12,
   "metadata": {},
   "outputs": [
    {
     "name": "stdout",
     "output_type": "stream",
     "text": [
      "fields:\n",
      "['pt', 'eta', 'phi', 'btagDeepFlavB', 'btagDeepFlavCvB', 'btagDeepFlavCvL', 'jetId', 'puId', 'hadronFlavour'] \n",
      "\n",
      "type: \n",
      "1089694 * var * {\"pt\": float32, \"eta\": float32, \"phi\": float32, \"btagDeepFlavB\": float32, \"btagDeepFlavCvB\": float32, \"btagDeepFlavCvL\": float32, \"jetId\": int32, \"puId\": int32, \"hadronFlavour\": int32} \n",
      "\n"
     ]
    }
   ],
   "source": [
    "print_array_info(muons_with_jets_zip.Jet) # , layout=True)\n"
   ]
  },
  {
   "cell_type": "code",
   "execution_count": 13,
   "metadata": {},
   "outputs": [
    {
     "name": "stdout",
     "output_type": "stream",
     "text": [
      "fields:\n",
      "['Jet', 'Muon'] \n",
      "\n",
      "type: \n",
      "1089694 * {\"Jet\": var * {\"pt\": float32, \"eta\": float32, \"phi\": float32, \"btagDeepFlavB\": float32, \"btagDeepFlavCvB\": float32, \"btagDeepFlavCvL\": float32, \"jetId\": int32, \"puId\": int32, \"hadronFlavour\": int32}, \"Muon\": var * {\"pt\": float32, \"eta\": float32, \"phi\": float32, \"tightId\": bool, \"pfRelIso04_all\": float32, \"charge\": int32}} \n",
      "\n"
     ]
    }
   ],
   "source": [
    "all_muon_and_jet_branches = events.arrays(filter_name=[\"Muon_*\",\"Jet_*\"], how=\"zip\")\n",
    "print_array_info(all_muon_and_jet_branches)"
   ]
  },
  {
   "cell_type": "code",
   "execution_count": 14,
   "metadata": {},
   "outputs": [
    {
     "name": "stdout",
     "output_type": "stream",
     "text": [
      "fields:\n",
      "['pt', 'eta', 'phi', 'tightId', 'pfRelIso04_all', 'charge'] \n",
      "\n",
      "type: \n",
      "1089694 * var * {\"pt\": float32, \"eta\": float32, \"phi\": float32, \"tightId\": bool, \"pfRelIso04_all\": float32, \"charge\": int32} \n",
      "\n"
     ]
    }
   ],
   "source": [
    "print_array_info(all_muon_and_jet_branches.Muon)"
   ]
  },
  {
   "cell_type": "code",
   "execution_count": 15,
   "metadata": {},
   "outputs": [
    {
     "name": "stdout",
     "output_type": "stream",
     "text": [
      "fields:\n",
      "['pt', 'eta', 'phi', 'btagDeepFlavB', 'btagDeepFlavCvB', 'btagDeepFlavCvL', 'jetId', 'puId', 'hadronFlavour'] \n",
      "\n",
      "type: \n",
      "1089694 * var * {\"pt\": float32, \"eta\": float32, \"phi\": float32, \"btagDeepFlavB\": float32, \"btagDeepFlavCvB\": float32, \"btagDeepFlavCvL\": float32, \"jetId\": int32, \"puId\": int32, \"hadronFlavour\": int32} \n",
      "\n"
     ]
    }
   ],
   "source": [
    "print_array_info(all_muon_and_jet_branches.Jet)\n"
   ]
  },
  {
   "cell_type": "markdown",
   "metadata": {},
   "source": [
    "## prepare masks and information printouts"
   ]
  },
  {
   "cell_type": "markdown",
   "metadata": {},
   "source": [
    "Create a mask with the criterium that the absolute value of eta has to be smaller than 0.5. This value is only for demonstration purposes."
   ]
  },
  {
   "cell_type": "code",
   "execution_count": 16,
   "metadata": {},
   "outputs": [],
   "source": [
    "def mask_function1(akarray):\n",
    "    return abs(akarray.Muon_eta) < .5\n",
    "def mask_function2(akarray):\n",
    "    return abs(akarray.eta) < .5\n",
    "def mask_function3(akarray):\n",
    "    return abs(akarray.Muon.eta) < .5"
   ]
  },
  {
   "cell_type": "code",
   "execution_count": 17,
   "metadata": {},
   "outputs": [],
   "source": [
    "def slice_test(akarray, mask_function):\n",
    "    array_copy = ak.copy(akarray)\n",
    "    mask = mask_function(array_copy)\n",
    "    sliced_array = array_copy[mask]\n",
    "    print_array_info(sliced_array)\n",
    "    print(\"first 10 events to list\")\n",
    "    print(sliced_array[:10].to_list())\n",
    "    return sliced_array"
   ]
  },
  {
   "cell_type": "code",
   "execution_count": 18,
   "metadata": {},
   "outputs": [],
   "source": [
    "def mask_test(akarray, mask_function):\n",
    "    array_copy = ak.copy(akarray)\n",
    "    mask = mask_function(array_copy)\n",
    "    masked_array = ak.mask(array_copy, mask) # array_copy.mask(mask)\n",
    "    print_array_info(masked_array)\n",
    "    print(\"first 10 events to list\")\n",
    "    print(masked_array[:10].to_list())\n",
    "    return masked_array"
   ]
  },
  {
   "cell_type": "markdown",
   "metadata": {},
   "source": [
    "## initial data in the first ten events without slicing or masking"
   ]
  },
  {
   "cell_type": "code",
   "execution_count": 19,
   "metadata": {},
   "outputs": [
    {
     "name": "stdout",
     "output_type": "stream",
     "text": [
      "[[1.1298828125, 0.162200927734375], [], [0.66748046875, -0.584716796875], [-0.3990478515625, -2.0595703125], [2.24853515625], [2.115234375], [], [0.9600830078125], [1.9267578125], []]\n"
     ]
    }
   ],
   "source": [
    "print(muons_no_zip[:10].Muon_eta.to_list())"
   ]
  },
  {
   "cell_type": "markdown",
   "metadata": {},
   "source": [
    "We can see already in the first events some entries with |eta| > 0.5 and hope them to be masked or sliced away."
   ]
  },
  {
   "cell_type": "markdown",
   "metadata": {},
   "source": [
    "## masking and slicing on the three types of array structures"
   ]
  },
  {
   "cell_type": "markdown",
   "metadata": {},
   "source": [
    "## no zip\n",
    "### masking"
   ]
  },
  {
   "cell_type": "code",
   "execution_count": 20,
   "metadata": {},
   "outputs": [
    {
     "name": "stdout",
     "output_type": "stream",
     "text": [
      "fields:\n",
      "['Muon_pt', 'Muon_eta', 'Muon_phi', 'Muon_tightId', 'Muon_pfRelIso04_all', 'Muon_charge'] \n",
      "\n",
      "type: \n",
      "1089694 * var * ?{\"Muon_pt\": var * float32, \"Muon_eta\": var * float32, \"Muon_phi\": var * float32, \"Muon_tightId\": var * bool, \"Muon_pfRelIso04_all\": var * float32, \"Muon_charge\": var * int32} \n",
      "\n",
      "first 10 events to list\n",
      "[[None, {'Muon_pt': [53.02759552001953, 30.640729904174805], 'Muon_eta': [1.1298828125, 0.162200927734375], 'Muon_phi': [1.251220703125, -2.2509765625], 'Muon_tightId': [True, True], 'Muon_pfRelIso04_all': [0.018847892060875893, 0.016491081565618515], 'Muon_charge': [-1, 1]}], [], [None, None], [{'Muon_pt': [36.98743438720703, 32.94463348388672], 'Muon_eta': [-0.3990478515625, -2.0595703125], 'Muon_phi': [-1.376708984375, 1.7509765625], 'Muon_tightId': [True, True], 'Muon_pfRelIso04_all': [0.0, 0.08915365487337112], 'Muon_charge': [1, -1]}, None], [None], [None], [], [None], [None], []]\n",
      "\n",
      "only the eta array:\n",
      "[[None, [1.1298828125, 0.162200927734375]], [], [None, None], [[-0.3990478515625, -2.0595703125], None], [None], [None], [], [None], [None], []]\n"
     ]
    }
   ],
   "source": [
    "muons_no_zip_masked = mask_test(muons_no_zip, mask_function=mask_function1)\n",
    "print(\"\\nonly the eta array:\")\n",
    "print(muons_no_zip_masked[:10].Muon_eta.to_list())"
   ]
  },
  {
   "cell_type": "markdown",
   "metadata": {},
   "source": [
    "Looking again at eta of the first ten events, we see, that the shape of the list changed and the values with |eta| > 0.5 are still there instead of beeing replaced with `None`."
   ]
  },
  {
   "cell_type": "markdown",
   "metadata": {},
   "source": [
    "### slicing"
   ]
  },
  {
   "cell_type": "code",
   "execution_count": 21,
   "metadata": {},
   "outputs": [
    {
     "name": "stdout",
     "output_type": "stream",
     "text": [
      "fields:\n",
      "['Muon_pt', 'Muon_eta', 'Muon_phi', 'Muon_tightId', 'Muon_pfRelIso04_all', 'Muon_charge'] \n",
      "\n",
      "type: \n",
      "1089694 * {\"Muon_pt\": var * float32, \"Muon_eta\": var * float32, \"Muon_phi\": var * float32, \"Muon_tightId\": var * bool, \"Muon_pfRelIso04_all\": var * float32, \"Muon_charge\": var * int32} \n",
      "\n",
      "first 10 events to list\n",
      "[{'Muon_pt': [30.640729904174805], 'Muon_eta': [0.162200927734375], 'Muon_phi': [-2.2509765625], 'Muon_tightId': [True], 'Muon_pfRelIso04_all': [0.016491081565618515], 'Muon_charge': [1]}, {'Muon_pt': [], 'Muon_eta': [], 'Muon_phi': [], 'Muon_tightId': [], 'Muon_pfRelIso04_all': [], 'Muon_charge': []}, {'Muon_pt': [], 'Muon_eta': [], 'Muon_phi': [], 'Muon_tightId': [], 'Muon_pfRelIso04_all': [], 'Muon_charge': []}, {'Muon_pt': [36.98743438720703], 'Muon_eta': [-0.3990478515625], 'Muon_phi': [-1.376708984375], 'Muon_tightId': [True], 'Muon_pfRelIso04_all': [0.0], 'Muon_charge': [1]}, {'Muon_pt': [], 'Muon_eta': [], 'Muon_phi': [], 'Muon_tightId': [], 'Muon_pfRelIso04_all': [], 'Muon_charge': []}, {'Muon_pt': [], 'Muon_eta': [], 'Muon_phi': [], 'Muon_tightId': [], 'Muon_pfRelIso04_all': [], 'Muon_charge': []}, {'Muon_pt': [], 'Muon_eta': [], 'Muon_phi': [], 'Muon_tightId': [], 'Muon_pfRelIso04_all': [], 'Muon_charge': []}, {'Muon_pt': [], 'Muon_eta': [], 'Muon_phi': [], 'Muon_tightId': [], 'Muon_pfRelIso04_all': [], 'Muon_charge': []}, {'Muon_pt': [], 'Muon_eta': [], 'Muon_phi': [], 'Muon_tightId': [], 'Muon_pfRelIso04_all': [], 'Muon_charge': []}, {'Muon_pt': [], 'Muon_eta': [], 'Muon_phi': [], 'Muon_tightId': [], 'Muon_pfRelIso04_all': [], 'Muon_charge': []}]\n",
      "\n",
      "only the eta array:\n",
      "[[0.162200927734375], [], [], [-0.3990478515625], [], [], [], [], [], []]\n"
     ]
    }
   ],
   "source": [
    "muons_no_zip_sliced = slice_test(muons_no_zip, mask_function=mask_function1)\n",
    "print(\"\\nonly the eta array:\")\n",
    "print(muons_no_zip_sliced[:10].Muon_eta.to_list())"
   ]
  },
  {
   "cell_type": "markdown",
   "metadata": {},
   "source": [
    "When slicing we get the expected result but the entries are just gone instead of replaced with `None`. But this is what we would expect from slicing anyhow."
   ]
  },
  {
   "cell_type": "markdown",
   "metadata": {},
   "source": [
    "## automatic zip\n",
    "### masking"
   ]
  },
  {
   "cell_type": "code",
   "execution_count": 23,
   "metadata": {},
   "outputs": [
    {
     "name": "stdout",
     "output_type": "stream",
     "text": [
      "fields:\n",
      "['Muon'] \n",
      "\n",
      "type: \n",
      "1089694 * var * ?{\"Muon\": var * {\"pt\": float32, \"eta\": float32, \"phi\": float32, \"tightId\": bool, \"pfRelIso04_all\": float32, \"charge\": int32}} \n",
      "\n",
      "first 10 events to list\n",
      "[[None, {'Muon': [{'pt': 53.02759552001953, 'eta': 1.1298828125, 'phi': 1.251220703125, 'tightId': True, 'pfRelIso04_all': 0.018847892060875893, 'charge': -1}, {'pt': 30.640729904174805, 'eta': 0.162200927734375, 'phi': -2.2509765625, 'tightId': True, 'pfRelIso04_all': 0.016491081565618515, 'charge': 1}]}], [], [None, None], [{'Muon': [{'pt': 36.98743438720703, 'eta': -0.3990478515625, 'phi': -1.376708984375, 'tightId': True, 'pfRelIso04_all': 0.0, 'charge': 1}, {'pt': 32.94463348388672, 'eta': -2.0595703125, 'phi': 1.7509765625, 'tightId': True, 'pfRelIso04_all': 0.08915365487337112, 'charge': -1}]}, None], [None], [None], [], [None], [None], []]\n",
      "\n",
      "only the eta array:\n",
      "[[None, [1.1298828125, 0.162200927734375]], [], [None, None], [[-0.3990478515625, -2.0595703125], None], [None], [None], [], [None], [None], []]\n"
     ]
    }
   ],
   "source": [
    "muons_zip_masked = mask_test(muons_zip, mask_function=mask_function3)\n",
    "print(\"\\nonly the eta array:\")\n",
    "print(muons_zip_masked[:10].Muon.eta.to_list())"
   ]
  },
  {
   "cell_type": "markdown",
   "metadata": {},
   "source": [
    "Despite having a different array structure, broadcasting didn't work as desired here."
   ]
  },
  {
   "cell_type": "markdown",
   "metadata": {},
   "source": [
    "### slicing"
   ]
  },
  {
   "cell_type": "code",
   "execution_count": 24,
   "metadata": {},
   "outputs": [
    {
     "name": "stdout",
     "output_type": "stream",
     "text": [
      "fields:\n",
      "['Muon'] \n",
      "\n",
      "type: \n",
      "1089694 * {\"Muon\": var * {\"pt\": float32, \"eta\": float32, \"phi\": float32, \"tightId\": bool, \"pfRelIso04_all\": float32, \"charge\": int32}} \n",
      "\n",
      "first 10 events to list\n",
      "[{'Muon': [{'pt': 30.640729904174805, 'eta': 0.162200927734375, 'phi': -2.2509765625, 'tightId': True, 'pfRelIso04_all': 0.016491081565618515, 'charge': 1}]}, {'Muon': []}, {'Muon': []}, {'Muon': [{'pt': 36.98743438720703, 'eta': -0.3990478515625, 'phi': -1.376708984375, 'tightId': True, 'pfRelIso04_all': 0.0, 'charge': 1}]}, {'Muon': []}, {'Muon': []}, {'Muon': []}, {'Muon': []}, {'Muon': []}, {'Muon': []}]\n",
      "\n",
      "only the eta array:\n",
      "[[0.162200927734375], [], [], [-0.3990478515625], [], [], [], [], [], []]\n"
     ]
    }
   ],
   "source": [
    "muons_zip_sliced = slice_test(muons_zip, mask_function=mask_function3)\n",
    "print(\"\\nonly the eta array:\")\n",
    "print(muons_zip_sliced[:10].Muon.eta.to_list())"
   ]
  },
  {
   "cell_type": "markdown",
   "metadata": {},
   "source": [
    "It looks like slicing worked again in the way we expect it to behave."
   ]
  },
  {
   "cell_type": "markdown",
   "metadata": {},
   "source": [
    "## manual zip\n",
    "### masking"
   ]
  },
  {
   "cell_type": "code",
   "execution_count": 26,
   "metadata": {},
   "outputs": [
    {
     "name": "stdout",
     "output_type": "stream",
     "text": [
      "fields:\n",
      "['pt', 'eta', 'phi', 'tightId', 'pfRelIso04_all', 'charge'] \n",
      "\n",
      "type: \n",
      "1089694 * var * ?{\"pt\": float32, \"eta\": float32, \"phi\": float32, \"tightId\": bool, \"pfRelIso04_all\": float32, \"charge\": int32} \n",
      "\n",
      "first 10 events to list\n",
      "[[None, {'pt': 30.640729904174805, 'eta': 0.162200927734375, 'phi': -2.2509765625, 'tightId': True, 'pfRelIso04_all': 0.016491081565618515, 'charge': 1}], [], [None, None], [{'pt': 36.98743438720703, 'eta': -0.3990478515625, 'phi': -1.376708984375, 'tightId': True, 'pfRelIso04_all': 0.0, 'charge': 1}, None], [None], [None], [], [None], [None], []]\n",
      "\n",
      "only the eta array:\n",
      "[[None, 0.162200927734375], [], [None, None], [-0.3990478515625, None], [None], [None], [], [None], [None], []]\n"
     ]
    }
   ],
   "source": [
    "muons_manual_zip_masked = mask_test(muons_manual_zip, mask_function=mask_function2)\n",
    "print(\"\\nonly the eta array:\")\n",
    "print(muons_manual_zip_masked[:10].eta.to_list())"
   ]
  },
  {
   "cell_type": "markdown",
   "metadata": {},
   "source": [
    "Looking only at the eta array, it looks like we finally made it, but looking closely at the type and the `.to_list()` representation of all fields in the array, we see that it's still not correct."
   ]
  },
  {
   "cell_type": "markdown",
   "metadata": {},
   "source": [
    "### slicing"
   ]
  },
  {
   "cell_type": "code",
   "execution_count": 27,
   "metadata": {},
   "outputs": [
    {
     "name": "stdout",
     "output_type": "stream",
     "text": [
      "fields:\n",
      "['pt', 'eta', 'phi', 'tightId', 'pfRelIso04_all', 'charge'] \n",
      "\n",
      "type: \n",
      "1089694 * var * {\"pt\": float32, \"eta\": float32, \"phi\": float32, \"tightId\": bool, \"pfRelIso04_all\": float32, \"charge\": int32} \n",
      "\n",
      "first 10 events to list\n",
      "[[{'pt': 30.640729904174805, 'eta': 0.162200927734375, 'phi': -2.2509765625, 'tightId': True, 'pfRelIso04_all': 0.016491081565618515, 'charge': 1}], [], [], [{'pt': 36.98743438720703, 'eta': -0.3990478515625, 'phi': -1.376708984375, 'tightId': True, 'pfRelIso04_all': 0.0, 'charge': 1}], [], [], [], [], [], []]\n",
      "\n",
      "only the eta array:\n",
      "[[0.162200927734375], [], [], [-0.3990478515625], [], [], [], [], [], []]\n"
     ]
    }
   ],
   "source": [
    "muons_manual_zip_sliced = slice_test(muons_manual_zip, mask_function=mask_function2)\n",
    "print(\"\\nonly the eta array:\")\n",
    "print(muons_manual_zip_sliced[:10].eta.to_list())"
   ]
  },
  {
   "cell_type": "markdown",
   "metadata": {},
   "source": [
    "Slicing looks fine again."
   ]
  },
  {
   "cell_type": "markdown",
   "metadata": {},
   "source": [
    "## conclusion\n",
    "\n",
    "For all three cases with arrays of records, records of arrays, or records of arrays of records, broadcasting seems to work properly with slicing but not with `ak.mask`.\n",
    "When using `ak.mask`, the type becomes `1089694 * var * ?{\"pt\": float32, ... }` instead of `1089694 * var * {\"pt\": float32, ... }` without the `?`. The difference can be observed also in the `.to_list()` representation, where entries are not masked properly."
   ]
  }
 ],
 "metadata": {
  "kernelspec": {
   "display_name": "Python 3.9.13 64-bit",
   "language": "python",
   "name": "python3"
  },
  "language_info": {
   "codemirror_mode": {
    "name": "ipython",
    "version": 3
   },
   "file_extension": ".py",
   "mimetype": "text/x-python",
   "name": "python",
   "nbconvert_exporter": "python",
   "pygments_lexer": "ipython3",
   "version": "3.9.13"
  },
  "orig_nbformat": 4,
  "vscode": {
   "interpreter": {
    "hash": "b0fa6594d8f4cbf19f97940f81e996739fb7646882a419484c72d19e05852a7e"
   }
  }
 },
 "nbformat": 4,
 "nbformat_minor": 2
}
